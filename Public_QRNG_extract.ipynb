{
 "cells": [
  {
   "cell_type": "code",
   "execution_count": 12,
   "metadata": {},
   "outputs": [],
   "source": [
    "from TimeTagger import FileReader\n",
    "import numpy as np\n",
    "import easygui\n",
    "import pandas as pd\n",
    "import matplotlib.pyplot as plt\n",
    "\n"
   ]
  },
  {
   "cell_type": "code",
   "execution_count": null,
   "metadata": {},
   "outputs": [],
   "source": []
  },
  {
   "cell_type": "markdown",
   "metadata": {},
   "source": [
    "We know that H and V got swapped in BOB so I must correct for it in code. "
   ]
  },
  {
   "cell_type": "code",
   "execution_count": 13,
   "metadata": {},
   "outputs": [],
   "source": [
    "#GLOBAL DEFINITIONS\n",
    "aH = 5\n",
    "aV = 6\n",
    "bH = 1\n",
    "bV = 2\n",
    "cH = 3\n",
    "cV = 4\n",
    "\n",
    "H=0\n",
    "V=1"
   ]
  },
  {
   "cell_type": "code",
   "execution_count": 14,
   "metadata": {},
   "outputs": [],
   "source": [
    "#folder = r'C:\\Data\\\\'\n",
    "#folder = \"/media/tanvir/SpooqyLab/Table_Top_Demo/1stOct2020\"\n",
    "#folder = \"./test\"\n",
    "#folder = \"/home/tanvir/work/Programming/gProj/Satellite_QKD/data_source\"\n",
    "#folder = \"/home/tanvir/work/Programming/gProj/qkd-table-top-v2/qutools\"\n",
    "#folder = \"/home/tanvir/work/Programming/gProj/qkd-table-top-v2/test\"\n",
    "#folder = \"/home/tanvir/work/Programming/gProj/qkd-table-top-v2/swabian/newmatch11Jun21\"\n",
    "folder = \"./VerifiableRNG_Data/logSwabian20220221-1433/\"\n",
    "#file = '2.97mW_1.1.ttbin'\n",
    "#file = \"onlyB.1.ttbin\"\n",
    "#file = \"dark1.ttbin\"\n",
    "#file = \"3_88mW00dB.1.ttbin\"\n",
    "file =\"logSwabian20220221-1433.ttbin\"\n",
    "filepath = folder + '/' + file\n",
    "\n",
    "#filepath = easygui.fileopenbox(default = folder)\n",
    "\n",
    "\n",
    "\n",
    "\n"
   ]
  },
  {
   "cell_type": "code",
   "execution_count": 15,
   "metadata": {},
   "outputs": [],
   "source": [
    "def loadSwabianTimeStamps(fileIn, t = np.inf):\n",
    "    \n",
    "        file_reader = FileReader(fileIn)\n",
    "        stamps = []\n",
    "        channel = []\n",
    "        \n",
    "        \n",
    "        while file_reader.hasData():\n",
    "            #n_events = 100000; # Number of events to read at once\n",
    "            n_events = 400000; # Number of events to read at once\n",
    "            \n",
    "            # Read at most n_events.\n",
    "            data = file_reader.getData(n_events);  # data is an instance of TimeTagStreamBuffer\n",
    "\n",
    "            channelTmp = data.getChannels()\n",
    "            stampsTmp = data.getTimestamps()\n",
    "          #  overflow_types = data.getEventTypes()   # TimeTag = 0, Error = 1, OverflowBegin = 2, OverflowEnd = 3, MissedEvents = 4\n",
    "          #  missed_events = data.getMissedEvents()\n",
    "            \n",
    "            for i in range(len(channelTmp)):\n",
    "                channel.append(channelTmp[i])\n",
    "                stamps.append(stampsTmp[i])\n",
    "            break\n",
    "            if stamps[-1] - stamps[0] > t:\n",
    "                break\n",
    "        return stamps, channel\n"
   ]
  },
  {
   "cell_type": "code",
   "execution_count": 16,
   "metadata": {},
   "outputs": [],
   "source": [
    "stamps, channel = loadSwabianTimeStamps(filepath)"
   ]
  },
  {
   "cell_type": "code",
   "execution_count": 17,
   "metadata": {},
   "outputs": [],
   "source": [
    "#for (x,y) in zip(stamps,channel):\n",
    "#    print (x,y)"
   ]
  },
  {
   "cell_type": "code",
   "execution_count": null,
   "metadata": {},
   "outputs": [],
   "source": []
  },
  {
   "cell_type": "code",
   "execution_count": 18,
   "metadata": {},
   "outputs": [],
   "source": [
    "#seperate out alice's, bob's and charlie's events\n",
    "astamps = []\n",
    "achannel = []\n",
    "bstamps = []\n",
    "bchannel = []\n",
    "cstamps = []\n",
    "cchannel = []\n",
    "\n",
    "for (s,c) in zip(stamps, channel):\n",
    "    if (c==aH or c==aV):\n",
    "        astamps.append(s+2000)\n",
    "        achannel.append(c-aH)\n",
    "    elif (c==bH or c==bV):\n",
    "        bstamps.append(s)\n",
    "        bchannel.append(c-bH)\n",
    "    elif (c==cH or c==cV):\n",
    "        cstamps.append(s)\n",
    "        cchannel.append(c-cH)\n",
    "    else :\n",
    "        print (\"Error! Unknown channel: \",c)\n"
   ]
  },
  {
   "cell_type": "code",
   "execution_count": 19,
   "metadata": {},
   "outputs": [
    {
     "data": {
      "text/plain": [
       "400000"
      ]
     },
     "execution_count": 19,
     "metadata": {},
     "output_type": "execute_result"
    }
   ],
   "source": [
    "#len(astamps)+len(bstamps)+len(cstamps)\n",
    "len(achannel)+len(bchannel)+len(cchannel)"
   ]
  },
  {
   "cell_type": "code",
   "execution_count": 20,
   "metadata": {},
   "outputs": [],
   "source": [
    "detectors = [\"H\",\"V\"]"
   ]
  },
  {
   "cell_type": "code",
   "execution_count": 21,
   "metadata": {},
   "outputs": [],
   "source": [
    "def correct_timestamp(stamps,detectors,step_size_ps=250,sH=0,sV=0):\n",
    "    cstamp=[]\n",
    "    ts = 0\n",
    "    for (s,d) in zip (stamps,detectors):\n",
    "        ts = s\n",
    "        if(d==H): \n",
    "            ts+=sH*step_size_ps\n",
    "        elif(d==V):\n",
    "            ts+=sV*step_size_ps \n",
    "        cstamp.append(ts)\n",
    "        \n",
    "    print (step_size_ps*sH,step_size_ps*sV)\n",
    "    \n",
    "    return cstamp"
   ]
  },
  {
   "cell_type": "code",
   "execution_count": 22,
   "metadata": {},
   "outputs": [
    {
     "name": "stdout",
     "output_type": "stream",
     "text": [
      "0 500\n"
     ]
    }
   ],
   "source": [
    "#correct alice HV delay missmatch add 500ps to alice's V \n",
    "#astamps_corrected = correct_timestamp(astamps,achannel,sH=0,sV=-1*500,sA=0,sD=-2*500) #28 july data\n",
    "#astamps_corrected = correct_timestamp(astamps,achannel,sH=0,sV=-2*500,sA=0,sD=-2*500) # 24 Aug data\n",
    "#astamps_corrected = correct_timestamp(astamps,achannel,sH=0,sV=-2*500,sA=-3*500,sD=-1*500) # 23rd Oct data\n",
    "#astamps_corrected = correct_timestamp(astamps,achannel,step_size_ps=250,sH=0,sV=-3,sA=-5,sD=-1) # 26rd Oct data\n",
    "#astamps_corrected = correct_timestamp(astamps,achannel,step_size_ps=250,sH=0,sV=-3,sA=-6,sD=0) #23rd Oct new calibration\n",
    "bstamps_corrected = correct_timestamp(bstamps,bchannel,step_size_ps=250,sH=0,sV=2)"
   ]
  },
  {
   "cell_type": "code",
   "execution_count": 23,
   "metadata": {},
   "outputs": [
    {
     "name": "stdout",
     "output_type": "stream",
     "text": [
      "-250 500\n"
     ]
    }
   ],
   "source": [
    "#correct charlie\n",
    "cstamps_corrected = correct_timestamp(cstamps,cchannel,step_size_ps=250,sH=-1,sV=2)"
   ]
  },
  {
   "cell_type": "code",
   "execution_count": 24,
   "metadata": {},
   "outputs": [],
   "source": [
    "hh = {}"
   ]
  },
  {
   "cell_type": "code",
   "execution_count": null,
   "metadata": {},
   "outputs": [],
   "source": []
  },
  {
   "cell_type": "code",
   "execution_count": null,
   "metadata": {},
   "outputs": [],
   "source": []
  },
  {
   "cell_type": "code",
   "execution_count": 25,
   "metadata": {},
   "outputs": [],
   "source": [
    "def match_coincidence(at,ad,bt,bd,cwindow,shift):\n",
    "    ia = 0\n",
    "    ib = 0\n",
    "    acoin_indexes = []\n",
    "    bcoin_indexes = []\n",
    "    while (ia<len(at) and ib <len(bt)):\n",
    "        \n",
    "        diff = bt[ib]- at[ia] + shift\n",
    "\n",
    "        if (abs(diff)<=cwindow):\n",
    "            #coin_count +=1\n",
    "            if ad[ia]==bd[ib]:\n",
    "                acoin_indexes.append(ia)\n",
    "                bcoin_indexes.append(ib)\n",
    "            ia+=1\n",
    "            ib+=1\n",
    "            #continue\n",
    "        elif (diff>cwindow):\n",
    "            ia+=1\n",
    "            #continue\n",
    "        elif( diff <-cwindow):\n",
    "            ib+=1\n",
    "            #continue\n",
    "        else:\n",
    "            print (\"ERROR! I should not be here\")\n",
    "            break\n",
    "    return acoin_indexes,bcoin_indexes\n",
    "\n"
   ]
  },
  {
   "cell_type": "code",
   "execution_count": 26,
   "metadata": {},
   "outputs": [],
   "source": [
    "ab_indexes,bc_indexes = match_coincidence(astamps,achannel,bstamps_corrected,bchannel,750,4*250)"
   ]
  },
  {
   "cell_type": "code",
   "execution_count": 27,
   "metadata": {},
   "outputs": [
    {
     "data": {
      "text/plain": [
       "2546"
      ]
     },
     "execution_count": 27,
     "metadata": {},
     "output_type": "execute_result"
    }
   ],
   "source": [
    "len(ab_indexes)\n",
    "\n"
   ]
  },
  {
   "cell_type": "code",
   "execution_count": 28,
   "metadata": {},
   "outputs": [
    {
     "data": {
      "text/plain": [
       "1848"
      ]
     },
     "execution_count": 28,
     "metadata": {},
     "output_type": "execute_result"
    }
   ],
   "source": [
    "1256 + 592"
   ]
  },
  {
   "cell_type": "code",
   "execution_count": 29,
   "metadata": {},
   "outputs": [],
   "source": [
    "ac_indexes,cc_indexes = match_coincidence(astamps,achannel,cstamps_corrected,cchannel,750,4*250)"
   ]
  },
  {
   "cell_type": "code",
   "execution_count": null,
   "metadata": {},
   "outputs": [],
   "source": []
  },
  {
   "cell_type": "code",
   "execution_count": 30,
   "metadata": {},
   "outputs": [],
   "source": [
    "def generate_tripartite_output(ab_indexes,ac_indexes,astamps,achannel):\n",
    "    columnA=[]\n",
    "    columnB=[]\n",
    "    columnC=[]\n",
    "    ib=0\n",
    "    ic=0\n",
    "    tag_ib=None\n",
    "    tag_ic=None\n",
    "    a=0\n",
    "    b=0\n",
    "    c=0\n",
    "    while(ib < len(ab_indexes) and ic <len(ac_indexes)):\n",
    "        tag_ib = ab_indexes[ib]\n",
    "        tag_ic = ac_indexes[ic]\n",
    "        \n",
    "        if tag_ib < tag_ic: \n",
    "            #process tag_ib\n",
    "            bit= achannel[tag_ib]\n",
    "            a = 0\n",
    "            b = bit\n",
    "            c = bit\n",
    "            ib+=1\n",
    "        elif tag_ib > tag_ic:\n",
    "            #process gat_ic\n",
    "            bit = achannel[tag_ic]\n",
    "            a = 1\n",
    "            b = bit\n",
    "            c = 1-bit\n",
    "            ic +=1\n",
    "        else:\n",
    "            ib+=1\n",
    "            ic+=1\n",
    "        columnA.append(a)\n",
    "        columnB.append(b)\n",
    "        columnC.append(c)\n",
    "    \n",
    "    return columnA,columnB,columnC\n",
    "    "
   ]
  },
  {
   "cell_type": "code",
   "execution_count": 31,
   "metadata": {},
   "outputs": [],
   "source": [
    "A,B,C=generate_tripartite_output(ab_indexes,ac_indexes,astamps,achannel)\n"
   ]
  },
  {
   "cell_type": "code",
   "execution_count": 32,
   "metadata": {},
   "outputs": [
    {
     "data": {
      "text/plain": [
       "[1, 1, 1, 1, 0, 0, 1, 1, 1, 0, 1, 0, 1, 0, 0, 0, 1, 1, 0, 1]"
      ]
     },
     "execution_count": 32,
     "metadata": {},
     "output_type": "execute_result"
    }
   ],
   "source": [
    "A[:20]"
   ]
  },
  {
   "cell_type": "code",
   "execution_count": 33,
   "metadata": {},
   "outputs": [
    {
     "data": {
      "text/plain": [
       "[1, 0, 1, 0, 1, 1, 0, 1, 1, 0, 0, 1, 0, 1, 0, 0, 0, 0, 0, 0]"
      ]
     },
     "execution_count": 33,
     "metadata": {},
     "output_type": "execute_result"
    }
   ],
   "source": [
    "B[:20]"
   ]
  },
  {
   "cell_type": "code",
   "execution_count": 34,
   "metadata": {},
   "outputs": [
    {
     "data": {
      "text/plain": [
       "[0, 1, 0, 1, 1, 1, 1, 0, 0, 0, 1, 1, 1, 1, 0, 0, 1, 1, 0, 1]"
      ]
     },
     "execution_count": 34,
     "metadata": {},
     "output_type": "execute_result"
    }
   ],
   "source": [
    "C[:20]"
   ]
  },
  {
   "cell_type": "code",
   "execution_count": 35,
   "metadata": {},
   "outputs": [],
   "source": [
    "df = pd.DataFrame()\n",
    "df['columnA'] = A\n",
    "df['columnB'] = B\n",
    "df['columnC'] = C\n",
    "df.to_csv(\"PQRNG_output.csv\",index=False)\n"
   ]
  },
  {
   "cell_type": "code",
   "execution_count": 38,
   "metadata": {},
   "outputs": [
    {
     "name": "stdout",
     "output_type": "stream",
     "text": [
      "3000 2735 2807 5546\n"
     ]
    }
   ],
   "source": [
    "print(sum(A),sum(B),sum(C),len(A))"
   ]
  },
  {
   "cell_type": "code",
   "execution_count": 37,
   "metadata": {},
   "outputs": [
    {
     "data": {
      "text/plain": [
       "34"
      ]
     },
     "execution_count": 37,
     "metadata": {},
     "output_type": "execute_result"
    }
   ],
   "source": [
    "def hex_from_bitmap(ap,bp):\n",
    "    h=0\n",
    "    for i in ap: \n",
    "        h<<=1\n",
    "        h= h|i\n",
    "    for i in bp: \n",
    "        h<<=1\n",
    "        h= h|i    \n",
    "    #print (hex(h) )\n",
    "    return h\n",
    "    \n",
    "hex_from_bitmap([0,0,1,0],[0,0,1,0])"
   ]
  },
  {
   "cell_type": "code",
   "execution_count": null,
   "metadata": {},
   "outputs": [],
   "source": []
  }
 ],
 "metadata": {
  "kernelspec": {
   "display_name": "Python 3",
   "language": "python",
   "name": "python3"
  },
  "language_info": {
   "codemirror_mode": {
    "name": "ipython",
    "version": 3
   },
   "file_extension": ".py",
   "mimetype": "text/x-python",
   "name": "python",
   "nbconvert_exporter": "python",
   "pygments_lexer": "ipython3",
   "version": "3.8.2"
  }
 },
 "nbformat": 4,
 "nbformat_minor": 4
}
