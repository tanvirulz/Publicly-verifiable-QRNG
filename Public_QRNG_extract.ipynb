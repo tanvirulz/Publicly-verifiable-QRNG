{
 "cells": [
  {
   "cell_type": "code",
   "execution_count": 99,
   "metadata": {},
   "outputs": [],
   "source": [
    "from TimeTagger import FileReader\n",
    "import numpy as np\n",
    "import easygui\n",
    "import pandas as pd\n",
    "import matplotlib.pyplot as plt\n",
    "\n"
   ]
  },
  {
   "cell_type": "code",
   "execution_count": null,
   "metadata": {},
   "outputs": [],
   "source": []
  },
  {
   "cell_type": "markdown",
   "metadata": {},
   "source": [
    "We know that H and V got swapped in BOB so I must correct for it in code. "
   ]
  },
  {
   "cell_type": "code",
   "execution_count": 100,
   "metadata": {},
   "outputs": [],
   "source": [
    "#GLOBAL DEFINITIONS\n",
    "aH = 5\n",
    "aV = 6\n",
    "bH = 1\n",
    "bV = 2\n",
    "cH = 3\n",
    "cV = 4\n",
    "\n",
    "H=0\n",
    "V=1"
   ]
  },
  {
   "cell_type": "code",
   "execution_count": 101,
   "metadata": {},
   "outputs": [],
   "source": [
    "#folder = r'C:\\Data\\\\'\n",
    "#folder = \"/media/tanvir/SpooqyLab/Table_Top_Demo/1stOct2020\"\n",
    "#folder = \"./test\"\n",
    "#folder = \"/home/tanvir/work/Programming/gProj/Satellite_QKD/data_source\"\n",
    "#folder = \"/home/tanvir/work/Programming/gProj/qkd-table-top-v2/qutools\"\n",
    "#folder = \"/home/tanvir/work/Programming/gProj/qkd-table-top-v2/test\"\n",
    "#folder = \"/home/tanvir/work/Programming/gProj/qkd-table-top-v2/swabian/newmatch11Jun21\"\n",
    "folder = \"./VerifiableRNG_Data/logSwabian20220221-1433/\"\n",
    "#file = '2.97mW_1.1.ttbin'\n",
    "#file = \"onlyB.1.ttbin\"\n",
    "#file = \"dark1.ttbin\"\n",
    "#file = \"3_88mW00dB.1.ttbin\"\n",
    "file =\"logSwabian20220221-1433.ttbin\"\n",
    "filepath = folder + '/' + file\n",
    "\n",
    "#filepath = easygui.fileopenbox(default = folder)\n",
    "\n",
    "\n",
    "\n",
    "\n"
   ]
  },
  {
   "cell_type": "code",
   "execution_count": 102,
   "metadata": {},
   "outputs": [],
   "source": [
    "def loadSwabianTimeStamps(fileIn, t = np.inf):\n",
    "    \n",
    "        file_reader = FileReader(fileIn)\n",
    "        stamps = []\n",
    "        channel = []\n",
    "        \n",
    "        \n",
    "        while file_reader.hasData():\n",
    "            #n_events = 100000; # Number of events to read at once\n",
    "            n_events = 1000000; # Number of events to read at once\n",
    "            \n",
    "            # Read at most n_events.\n",
    "            data = file_reader.getData(n_events);  # data is an instance of TimeTagStreamBuffer\n",
    "\n",
    "            channelTmp = data.getChannels()\n",
    "            stampsTmp = data.getTimestamps()\n",
    "          #  overflow_types = data.getEventTypes()   # TimeTag = 0, Error = 1, OverflowBegin = 2, OverflowEnd = 3, MissedEvents = 4\n",
    "          #  missed_events = data.getMissedEvents()\n",
    "            \n",
    "            for i in range(len(channelTmp)):\n",
    "                channel.append(channelTmp[i])\n",
    "                stamps.append(stampsTmp[i])\n",
    "            break\n",
    "            if stamps[-1] - stamps[0] > t:\n",
    "                break\n",
    "        return stamps, channel\n"
   ]
  },
  {
   "cell_type": "code",
   "execution_count": 103,
   "metadata": {},
   "outputs": [],
   "source": [
    "stamps, channel = loadSwabianTimeStamps(filepath)"
   ]
  },
  {
   "cell_type": "code",
   "execution_count": 104,
   "metadata": {},
   "outputs": [],
   "source": [
    "#for (x,y) in zip(stamps,channel):\n",
    "#    print (x,y)"
   ]
  },
  {
   "cell_type": "code",
   "execution_count": null,
   "metadata": {},
   "outputs": [],
   "source": []
  },
  {
   "cell_type": "code",
   "execution_count": null,
   "metadata": {},
   "outputs": [],
   "source": []
  },
  {
   "cell_type": "code",
   "execution_count": 105,
   "metadata": {},
   "outputs": [],
   "source": [
    "#seperate out alice's, bob's and charlie's events\n",
    "astamps = []\n",
    "achannel = []\n",
    "bstamps = []\n",
    "bchannel = []\n",
    "cstamps = []\n",
    "cchannel = []\n",
    "\n",
    "for (s,c) in zip(stamps, channel):\n",
    "    if (c==aH or c==aV):\n",
    "        astamps.append(s+2000)\n",
    "        achannel.append(c-aH)\n",
    "    elif (c==bH or c==bV):\n",
    "        bstamps.append(s)\n",
    "        bchannel.append(c-bH)\n",
    "    elif (c==cH or c==cV):\n",
    "        cstamps.append(s)\n",
    "        cchannel.append(c-cH)\n",
    "    else :\n",
    "        print (\"Error! Unknown channel: \",c)\n"
   ]
  },
  {
   "cell_type": "code",
   "execution_count": 106,
   "metadata": {},
   "outputs": [
    {
     "data": {
      "text/plain": [
       "[1, 1, 0, 0, 1, 0, 0, 0, 1, 1, 1, 0, 1, 1, 0, 1, 1, 1, 0, 1]"
      ]
     },
     "execution_count": 106,
     "metadata": {},
     "output_type": "execute_result"
    }
   ],
   "source": [
    "cchannel[:20]"
   ]
  },
  {
   "cell_type": "code",
   "execution_count": 107,
   "metadata": {},
   "outputs": [
    {
     "data": {
      "text/plain": [
       "1000000"
      ]
     },
     "execution_count": 107,
     "metadata": {},
     "output_type": "execute_result"
    }
   ],
   "source": [
    "#len(astamps)+len(bstamps)+len(cstamps)\n",
    "len(achannel)+len(bchannel)+len(cchannel)"
   ]
  },
  {
   "cell_type": "code",
   "execution_count": 108,
   "metadata": {},
   "outputs": [],
   "source": [
    "detectors = [\"H\",\"V\"]"
   ]
  },
  {
   "cell_type": "code",
   "execution_count": 109,
   "metadata": {},
   "outputs": [],
   "source": [
    "def correct_timestamp(stamps,detectors,step_size_ps=250,sH=0,sV=0):\n",
    "    cstamp=[]\n",
    "    ts = 0\n",
    "    for (s,d) in zip (stamps,detectors):\n",
    "        ts = s\n",
    "        if(d==H): \n",
    "            ts+=sH*step_size_ps\n",
    "        elif(d==V):\n",
    "            ts+=sV*step_size_ps \n",
    "        cstamp.append(ts)\n",
    "        \n",
    "    print (step_size_ps*sH,step_size_ps*sV)\n",
    "    \n",
    "    return cstamp"
   ]
  },
  {
   "cell_type": "code",
   "execution_count": 110,
   "metadata": {},
   "outputs": [
    {
     "name": "stdout",
     "output_type": "stream",
     "text": [
      "0 500\n"
     ]
    }
   ],
   "source": [
    "#correct alice HV delay missmatch add 500ps to alice's V \n",
    "#astamps_corrected = correct_timestamp(astamps,achannel,sH=0,sV=-1*500,sA=0,sD=-2*500) #28 july data\n",
    "#astamps_corrected = correct_timestamp(astamps,achannel,sH=0,sV=-2*500,sA=0,sD=-2*500) # 24 Aug data\n",
    "#astamps_corrected = correct_timestamp(astamps,achannel,sH=0,sV=-2*500,sA=-3*500,sD=-1*500) # 23rd Oct data\n",
    "#astamps_corrected = correct_timestamp(astamps,achannel,step_size_ps=250,sH=0,sV=-3,sA=-5,sD=-1) # 26rd Oct data\n",
    "#astamps_corrected = correct_timestamp(astamps,achannel,step_size_ps=250,sH=0,sV=-3,sA=-6,sD=0) #23rd Oct new calibration\n",
    "bstamps_corrected = correct_timestamp(bstamps,bchannel,step_size_ps=250,sH=0,sV=2)"
   ]
  },
  {
   "cell_type": "code",
   "execution_count": 111,
   "metadata": {},
   "outputs": [
    {
     "name": "stdout",
     "output_type": "stream",
     "text": [
      "-250 500\n"
     ]
    }
   ],
   "source": [
    "#correct charlie\n",
    "cstamps_corrected = correct_timestamp(cstamps,cchannel,step_size_ps=250,sH=-1,sV=2)"
   ]
  },
  {
   "cell_type": "code",
   "execution_count": 112,
   "metadata": {},
   "outputs": [],
   "source": [
    "hh = {}"
   ]
  },
  {
   "cell_type": "code",
   "execution_count": null,
   "metadata": {},
   "outputs": [],
   "source": []
  },
  {
   "cell_type": "code",
   "execution_count": null,
   "metadata": {},
   "outputs": [],
   "source": []
  },
  {
   "cell_type": "code",
   "execution_count": 113,
   "metadata": {},
   "outputs": [],
   "source": [
    "def match_coincidence(at,ad,bt,bd,cwindow,shift):\n",
    "    ia = 0\n",
    "    ib = 0\n",
    "    acoin_indexes = []\n",
    "    bcoin_indexes = []\n",
    "    while (ia<len(at) and ib <len(bt)):\n",
    "        \n",
    "        diff = bt[ib]- at[ia] + shift\n",
    "\n",
    "        if (abs(diff)<=cwindow):\n",
    "            #coin_count +=1\n",
    "            \n",
    "            #if ad[ia]==bd[ib]: #do not filter out error bits\n",
    "            acoin_indexes.append(ia)\n",
    "            bcoin_indexes.append(ib)\n",
    "            ia+=1\n",
    "            ib+=1\n",
    "            #continue\n",
    "        elif (diff>cwindow):\n",
    "            ia+=1\n",
    "            #continue\n",
    "        elif( diff <-cwindow):\n",
    "            ib+=1\n",
    "            #continue\n",
    "        else:\n",
    "            print (\"ERROR! I should not be here\")\n",
    "            break\n",
    "    return acoin_indexes,bcoin_indexes\n",
    "\n"
   ]
  },
  {
   "cell_type": "code",
   "execution_count": 114,
   "metadata": {},
   "outputs": [],
   "source": [
    "ab_indexes,ba_indexes = match_coincidence(astamps,achannel,bstamps_corrected,bchannel,750,4*250)"
   ]
  },
  {
   "cell_type": "code",
   "execution_count": 115,
   "metadata": {},
   "outputs": [
    {
     "data": {
      "text/plain": [
       "6459"
      ]
     },
     "execution_count": 115,
     "metadata": {},
     "output_type": "execute_result"
    }
   ],
   "source": [
    "len(ab_indexes)\n",
    "\n"
   ]
  },
  {
   "cell_type": "code",
   "execution_count": 116,
   "metadata": {},
   "outputs": [
    {
     "data": {
      "text/plain": [
       "1848"
      ]
     },
     "execution_count": 116,
     "metadata": {},
     "output_type": "execute_result"
    }
   ],
   "source": [
    "1256 + 592"
   ]
  },
  {
   "cell_type": "code",
   "execution_count": 117,
   "metadata": {},
   "outputs": [],
   "source": [
    "ac_indexes,ca_indexes = match_coincidence(astamps,achannel,cstamps_corrected,cchannel,750,4*250)"
   ]
  },
  {
   "cell_type": "code",
   "execution_count": null,
   "metadata": {},
   "outputs": [],
   "source": []
  },
  {
   "cell_type": "code",
   "execution_count": 118,
   "metadata": {},
   "outputs": [],
   "source": [
    "def generate_tripartite_output_old(astamps,achannel, bstamps,bchannel,cstamps,cchannel, \n",
    "                               ab_indexes,ba_indexes, ac_indexes, ca_indexes):\n",
    "    columnA=[]\n",
    "    columnB=[]\n",
    "    columnC=[]\n",
    "    ib=0\n",
    "    ic=0\n",
    "    tag_ib=None\n",
    "    tag_ic=None\n",
    "    a=0\n",
    "    b=0\n",
    "    c=0\n",
    "    while(ib < len(ab_indexes) and ic <len(ac_indexes)):\n",
    "        tag_ib = ab_indexes[ib]\n",
    "        tag_ic = ac_indexes[ic]\n",
    "        \n",
    "        if tag_ib < tag_ic: \n",
    "            #process tag_ib\n",
    "            bit= achannel[tag_ib]\n",
    "            a = 0\n",
    "            b = bit\n",
    "            c = bit\n",
    "            ib+=1\n",
    "        elif tag_ib > tag_ic:\n",
    "            #process gat_ic\n",
    "            bit = achannel[tag_ic]\n",
    "            a = 1\n",
    "            b = bit\n",
    "            c = 1-bit\n",
    "            ic +=1\n",
    "        else:\n",
    "            ib+=1\n",
    "            ic+=1\n",
    "        columnA.append(a)\n",
    "        columnB.append(b)\n",
    "        columnC.append(c)\n",
    "    \n",
    "    return columnA,columnB,columnC\n",
    "    "
   ]
  },
  {
   "cell_type": "code",
   "execution_count": 119,
   "metadata": {},
   "outputs": [],
   "source": [
    "def generate_tripartite_output(astamps,achannel, bstamps,bchannel,cstamps,cchannel, \n",
    "                               ab_indexes,ba_indexes, ac_indexes, ca_indexes):\n",
    "    columnA=[]\n",
    "    columnB=[]\n",
    "    columnC=[]\n",
    "    iab = 0\n",
    "    \n",
    "    \n",
    "    iac = 0\n",
    "    \n",
    "    #match_iab=None\n",
    "    #match_iba=None\n",
    "    \n",
    "    #match_iac=None\n",
    "    #match_ica=None\n",
    "    a=0\n",
    "    b=0\n",
    "    c=0\n",
    "    while(iab < len(ab_indexes) and iac <len(ac_indexes)):\n",
    "        match_iab = ab_indexes[iab]\n",
    "        match_iba = ba_indexes[iab]\n",
    "        \n",
    "        match_iac = ac_indexes[iac]\n",
    "        match_ica = ca_indexes[iac]\n",
    "        \n",
    "\n",
    "        if match_iab < match_iac: \n",
    "            #process tag_ib\n",
    "            #a = 0 # phi+ entanglement brunch\n",
    "            a=0\n",
    "            \n",
    "            b = achannel[match_iab]\n",
    "            c = bchannel[match_iba]\n",
    "            \n",
    "            iab+=1\n",
    "        elif match_iab > match_iac:\n",
    "            #process gat_ic\n",
    "            a = 1\n",
    "            b = achannel[match_iac]\n",
    "            c = 1- cchannel[match_ica]\n",
    "            iac +=1\n",
    "        else:\n",
    "            iab+=1\n",
    "            iac+=1\n",
    "        columnA.append(a)\n",
    "        columnB.append(b)\n",
    "        columnC.append(c)\n",
    "    \n",
    "    return columnA,columnB,columnC\n",
    "    "
   ]
  },
  {
   "cell_type": "code",
   "execution_count": 120,
   "metadata": {},
   "outputs": [],
   "source": [
    "A,B,C=generate_tripartite_output(astamps,achannel, bstamps,bchannel,cstamps,cchannel, \n",
    "                               ab_indexes,ba_indexes, ac_indexes, ca_indexes)\n"
   ]
  },
  {
   "cell_type": "code",
   "execution_count": 121,
   "metadata": {},
   "outputs": [
    {
     "data": {
      "text/plain": [
       "[1, 1, 1, 1, 0, 0, 1, 1, 1, 0, 1, 0, 1, 0, 0, 0, 1, 1, 1, 0]"
      ]
     },
     "execution_count": 121,
     "metadata": {},
     "output_type": "execute_result"
    }
   ],
   "source": [
    "A[:20]"
   ]
  },
  {
   "cell_type": "code",
   "execution_count": 122,
   "metadata": {},
   "outputs": [
    {
     "data": {
      "text/plain": [
       "[1, 0, 1, 0, 1, 1, 0, 1, 1, 0, 0, 1, 0, 1, 0, 0, 1, 0, 0, 0]"
      ]
     },
     "execution_count": 122,
     "metadata": {},
     "output_type": "execute_result"
    }
   ],
   "source": [
    "B[:20]"
   ]
  },
  {
   "cell_type": "code",
   "execution_count": 123,
   "metadata": {},
   "outputs": [
    {
     "data": {
      "text/plain": [
       "[0, 1, 0, 1, 1, 1, 1, 0, 0, 0, 1, 1, 1, 1, 0, 0, 1, 1, 1, 0]"
      ]
     },
     "execution_count": 123,
     "metadata": {},
     "output_type": "execute_result"
    }
   ],
   "source": [
    "C[:20]"
   ]
  },
  {
   "cell_type": "code",
   "execution_count": 124,
   "metadata": {},
   "outputs": [],
   "source": [
    "def compute_quber(A,B,C):\n",
    "    total_bits = len(A)\n",
    "    error_bits = 0\n",
    "    for (a,b,c) in zip(A,B,C):\n",
    "        if (a+b)%2 != c:\n",
    "            error_bits+=1\n",
    "    print (\"Total_bits:\",total_bits,\"error_bits:\",error_bits,\"QBER(%):\",error_bits*100/total_bits)"
   ]
  },
  {
   "cell_type": "code",
   "execution_count": 125,
   "metadata": {},
   "outputs": [
    {
     "name": "stdout",
     "output_type": "stream",
     "text": [
      "Total_bits: 14039 error_bits: 250 QBER(%): 1.7807536149298384\n"
     ]
    }
   ],
   "source": [
    "compute_quber(A,B,C)"
   ]
  },
  {
   "cell_type": "code",
   "execution_count": 126,
   "metadata": {},
   "outputs": [],
   "source": [
    "df = pd.DataFrame()\n",
    "df['columnA'] = A\n",
    "df['columnB'] = B\n",
    "df['columnC'] = C\n",
    "df.to_csv(\"PQRNG_output.csv\",index=False)\n"
   ]
  },
  {
   "cell_type": "code",
   "execution_count": 127,
   "metadata": {},
   "outputs": [
    {
     "name": "stdout",
     "output_type": "stream",
     "text": [
      "7580 6783 6993 14039\n"
     ]
    }
   ],
   "source": [
    "print(sum(A),sum(B),sum(C),len(A))"
   ]
  },
  {
   "cell_type": "code",
   "execution_count": 128,
   "metadata": {},
   "outputs": [
    {
     "data": {
      "text/plain": [
       "34"
      ]
     },
     "execution_count": 128,
     "metadata": {},
     "output_type": "execute_result"
    }
   ],
   "source": [
    "def hex_from_bitmap(ap,bp):\n",
    "    h=0\n",
    "    for i in ap: \n",
    "        h<<=1\n",
    "        h= h|i\n",
    "    for i in bp: \n",
    "        h<<=1\n",
    "        h= h|i    \n",
    "    #print (hex(h) )\n",
    "    return h\n",
    "    \n",
    "hex_from_bitmap([0,0,1,0],[0,0,1,0])"
   ]
  },
  {
   "cell_type": "code",
   "execution_count": null,
   "metadata": {},
   "outputs": [],
   "source": []
  },
  {
   "cell_type": "code",
   "execution_count": null,
   "metadata": {},
   "outputs": [],
   "source": []
  }
 ],
 "metadata": {
  "kernelspec": {
   "display_name": "Python 3",
   "language": "python",
   "name": "python3"
  },
  "language_info": {
   "codemirror_mode": {
    "name": "ipython",
    "version": 3
   },
   "file_extension": ".py",
   "mimetype": "text/x-python",
   "name": "python",
   "nbconvert_exporter": "python",
   "pygments_lexer": "ipython3",
   "version": "3.8.2"
  }
 },
 "nbformat": 4,
 "nbformat_minor": 4
}
